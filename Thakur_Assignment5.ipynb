{
 "cells": [
  {
   "cell_type": "code",
   "execution_count": 1,
   "metadata": {},
   "outputs": [],
   "source": [
    "#Prabhat Thakur  Date 11/04/2018\n",
    "#MSDS422 - Assignment-5 \n",
    "#MNIST dataset benchmark testing for RandomForestClassifier before and after using PCA. "
   ]
  },
  {
   "cell_type": "code",
   "execution_count": 2,
   "metadata": {},
   "outputs": [],
   "source": [
    "# import base packages into the namespace for this program\n",
    "from scipy.io import loadmat\n",
    "from sklearn.ensemble import RandomForestClassifier\n",
    "from sklearn.decomposition import PCA\n",
    "from sklearn.metrics import f1_score\n",
    "from sklearn.metrics import confusion_matrix\n",
    "\n",
    "import matplotlib\n",
    "import matplotlib.pyplot as plt\n",
    "\n",
    "import csv\n",
    "import time\n",
    "import numpy as np\n",
    "import pandas as pd"
   ]
  },
  {
   "cell_type": "code",
   "execution_count": 3,
   "metadata": {},
   "outputs": [
    {
     "name": "stdout",
     "output_type": "stream",
     "text": [
      "mnist dataset \n",
      " {'data': array([[0, 0, 0, ..., 0, 0, 0],\n",
      "       [0, 0, 0, ..., 0, 0, 0],\n",
      "       [0, 0, 0, ..., 0, 0, 0],\n",
      "       ...,\n",
      "       [0, 0, 0, ..., 0, 0, 0],\n",
      "       [0, 0, 0, ..., 0, 0, 0],\n",
      "       [0, 0, 0, ..., 0, 0, 0]], dtype=uint8), 'target': array([0., 0., 0., ..., 9., 9., 9.]), 'COL_NAMES': ['label', 'data'], 'DESCR': 'mldata.org dataset: mnist-original'}\n",
      "\n",
      "data shape:  (70000, 784)\n",
      "target shape:  (70000,)\n"
     ]
    }
   ],
   "source": [
    "# Load MNIST dataset from .mat file.\n",
    "\n",
    "mnist_raw = loadmat(\"mnist-original.mat\")\n",
    "mnist = {\n",
    "\"data\": mnist_raw[\"data\"].T,\n",
    "\"target\": mnist_raw[\"label\"][0],\n",
    "\"COL_NAMES\": [\"label\", \"data\"],\n",
    "\"DESCR\": \"mldata.org dataset: mnist-original\"}\n",
    "\n",
    "print('mnist dataset \\n', mnist)\n",
    "X, y = mnist['data'], mnist['target']\n",
    "print('\\ndata shape: ', X.shape)\n",
    "print('target shape: ', y.shape)"
   ]
  },
  {
   "cell_type": "code",
   "execution_count": 4,
   "metadata": {},
   "outputs": [
    {
     "data": {
      "image/png": "[encoded data removed]",
      "text/plain": [
       "<Figure size 432x288 with 1 Axes>"
      ]
     },
     "metadata": {},
     "output_type": "display_data"
    },
    {
     "name": "stdout",
     "output_type": "stream",
     "text": [
      "\n",
      " y[38001] =  6.0\n"
     ]
    }
   ],
   "source": [
    "# Display 38,001th image\n",
    "some_digit = X[38001]\n",
    "some_digit_image = some_digit.reshape(28, 28)\n",
    "\n",
    "plt.imshow(some_digit_image, cmap = matplotlib.cm.binary, \n",
    "           interpolation = 'nearest')\n",
    "plt.axis('on')\n",
    "plt.show()\n",
    "print('\\n y[38001] = ',y[38001])"
   ]
  },
  {
   "cell_type": "code",
   "execution_count": 5,
   "metadata": {},
   "outputs": [
    {
     "name": "stdout",
     "output_type": "stream",
     "text": [
      "--- Time to Fit Random Forest Classifier ---\n",
      "replication 1 : 14441.48684599468 milliseconds\n",
      "replication 2 : 12253.320934739055 milliseconds\n",
      "replication 3 : 12805.390514664825 milliseconds\n",
      "replication 4 : 11767.337504516043 milliseconds\n",
      "replication 5 : 11868.048165664923 milliseconds\n",
      "replication 6 : 11458.113689361844 milliseconds\n",
      "replication 7 : 11439.802361480602 milliseconds\n",
      "replication 8 : 11609.236542188057 milliseconds\n",
      "replication 9 : 11593.082651821205 milliseconds\n",
      "replication 10 : 11550.971770617793 milliseconds\n",
      "                  0\n",
      "count     10.000000\n",
      "mean   12078.679098\n",
      "std      931.586988\n",
      "min    11439.802361\n",
      "25%    11561.499491\n",
      "50%    11688.287023\n",
      "75%    12157.002742\n",
      "max    14441.486846\n",
      "\n",
      "F1 Score:  0.7650861676604316\n"
     ]
    }
   ],
   "source": [
    "# Split the data to 60,000 images as training data and 10,000 as test data\n",
    "X_train, X_test, y_train, y_test = X[:60000], X[60000:], y[:60000], y[60000:]\n",
    "\n",
    "# --- Random Forest Classifier ---\n",
    "rfClf = RandomForestClassifier(bootstrap = True,n_estimators=100, max_leaf_nodes=10, n_jobs=-1,random_state =42)    \n",
    "\n",
    "# Record the time it takes to fit the model\n",
    "\n",
    "# set random number seed \n",
    "\n",
    "np.random.seed(seed = 9999)\n",
    "\n",
    "replications = 10  # repeat the trial ten times\n",
    "x_time = [] # empty list for storing test results\n",
    "n = 0  # initialize count\n",
    "print('--- Time to Fit Random Forest Classifier ---')\n",
    "\n",
    "while (n < replications): \n",
    "    start_time = time.clock()\n",
    "    # generate 1 million random negative binomials and store in a vector\n",
    "    rfClf.fit(X_train, y_train)\n",
    "    end_time = time.clock()\n",
    "    runtime = end_time - start_time  # seconds of wall-clock time\n",
    "    x_time.append(runtime * 1000)  # report in milliseconds \n",
    "    print(\"replication\", n + 1, \":\", x_time[n], \"milliseconds\") \n",
    "    n = n + 1\n",
    "\n",
    "# write results to external file \n",
    "with open('rf_fit.csv', 'wt') as f:\n",
    "    writer = csv.writer(f, quoting = csv.QUOTE_NONNUMERIC, dialect = 'excel')\n",
    "    writer.writerow('x_time')    \n",
    "    for i in range(replications):\n",
    "        writer.writerow(([x_time[i],]))\n",
    "\n",
    "# preliminary analysis for this cell of the design\n",
    "print(pd.DataFrame(x_time).describe())\n",
    "\n",
    "y_predict = rfClf.predict(X_test)\n",
    "\n",
    "# Performance measurement using F1-score\n",
    "f1Score = f1_score(y_test, y_predict, average='weighted')\n",
    "print('\\nF1 Score: ', f1Score)"
   ]
  },
  {
   "cell_type": "code",
   "execution_count": 6,
   "metadata": {},
   "outputs": [
    {
     "name": "stdout",
     "output_type": "stream",
     "text": [
      "Confusion Matrix :\n",
      " [[ 963    1    2    0    0    0    4    5    4    1]\n",
      " [   0 1111   11    3    0    0    2    2    6    0]\n",
      " [  37   96  759   18    8    0   34   50   23    7]\n",
      " [  33   43   23  824    4    5    3   26   26   23]\n",
      " [   7   10    7    1  728    0   39   22    9  159]\n",
      " [  74   42    7  317   42  233   40   23   50   64]\n",
      " [  60   13   31    3   39    5  782    9   16    0]\n",
      " [   2   50   36    0    7    0    0  892   11   30]\n",
      " [  15   69   20   64   23    1   28   11  695   48]\n",
      " [  14   15    6   15   64    0    8   71   13  803]]\n"
     ]
    },
    {
     "data": {
      "image/png": "[encoded data removed]",
      "text/plain": [
       "<Figure size 288x288 with 1 Axes>"
      ]
     },
     "metadata": {},
     "output_type": "display_data"
    },
    {
     "data": {
      "image/png": "[encoded data removed]",
      "text/plain": [
       "<Figure size 288x288 with 1 Axes>"
      ]
     },
     "metadata": {},
     "output_type": "display_data"
    }
   ],
   "source": [
    "conf_mx = confusion_matrix(y_test, y_predict)\n",
    "print ('Confusion Matrix :\\n',conf_mx)\n",
    "\n",
    "plt.matshow(conf_mx, cmap=plt.cm.gray)\n",
    "plt.show()\n",
    "\n",
    "row_sums = conf_mx.sum(axis=1, keepdims=True)\n",
    "norm_conf_mx = conf_mx / row_sums\n",
    "\n",
    "np.fill_diagonal(norm_conf_mx, 0)\n",
    "plt.matshow(norm_conf_mx, cmap=plt.cm.gray)\n",
    "plt.show()\n"
   ]
  },
  {
   "cell_type": "code",
   "execution_count": 7,
   "metadata": {},
   "outputs": [
    {
     "name": "stdout",
     "output_type": "stream",
     "text": [
      "--- Time to Fit Random Forest Classifier ---\n",
      "replication 1 : 12263.032893224306 milliseconds\n",
      "replication 2 : 12284.919696521825 milliseconds\n",
      "replication 3 : 12570.141968009977 milliseconds\n",
      "replication 4 : 13966.46098137748 milliseconds\n",
      "replication 5 : 13049.818537130108 milliseconds\n",
      "replication 6 : 12549.01509179885 milliseconds\n",
      "replication 7 : 12363.604378099637 milliseconds\n",
      "replication 8 : 12411.770864124548 milliseconds\n",
      "replication 9 : 13956.104049660042 milliseconds\n",
      "replication 10 : 15110.730121194194 milliseconds\n",
      "                  0\n",
      "count     10.000000\n",
      "mean   13052.559858\n",
      "std      970.215240\n",
      "min    12263.032893\n",
      "25%    12375.646000\n",
      "50%    12559.578530\n",
      "75%    13729.532672\n",
      "max    15110.730121\n",
      "\n",
      "F1 Score on test set:  0.7637213066001748\n"
     ]
    }
   ],
   "source": [
    "# Split the data to 60,000 images as training data and 10,000 as test data using train test split\n",
    "from sklearn.model_selection import train_test_split\n",
    "\n",
    "X_train1, X_test1, y_train1, y_test1 = train_test_split(X,y,test_size =1/7,random_state =42)\n",
    "\n",
    "# --- Random Forest Classifier with bootstrap = True and max_features = 'sqrt'---\n",
    "rfClf1 = RandomForestClassifier(bootstrap = True, max_features = 'sqrt', n_estimators=100, max_leaf_nodes=10, n_jobs=-1,random_state =42)    \n",
    "\n",
    "# Record the time it takes to fit the model\n",
    "\n",
    "# set random number seed \n",
    "\n",
    "np.random.seed(seed = 9999)\n",
    "\n",
    "replications = 10  # repeat the trial ten times\n",
    "x_time = [] # empty list for storing test results\n",
    "n = 0  # initialize count\n",
    "print('--- Time to Fit Random Forest Classifier ---')\n",
    "\n",
    "while (n < replications): \n",
    "    start_time = time.clock()\n",
    "    # generate 1 million random negative binomials and store in a vector\n",
    "    rfClf1.fit(X_train1, y_train1)\n",
    "    end_time = time.clock()\n",
    "    runtime = end_time - start_time  # seconds of wall-clock time\n",
    "    x_time.append(runtime * 1000)  # report in milliseconds \n",
    "    print(\"replication\", n + 1, \":\", x_time[n], \"milliseconds\") \n",
    "    n = n + 1\n",
    "\n",
    "# preliminary analysis for this cell of the design\n",
    "print(pd.DataFrame(x_time).describe())\n",
    "\n",
    "y_predict1 = rfClf1.predict(X_test1)\n",
    "\n",
    "# Performance measurement using F1-score\n",
    "f1Score1 = f1_score(y_test1, y_predict1, average='weighted')\n",
    "print('\\nF1 Score on test set: ', f1Score1)"
   ]
  },
  {
   "cell_type": "code",
   "execution_count": 8,
   "metadata": {},
   "outputs": [
    {
     "name": "stdout",
     "output_type": "stream",
     "text": [
      "Confusion Matrix :\n",
      " [[ 963    1    2    0    0    0    4    5    4    1]\n",
      " [   0 1111   11    3    0    0    2    2    6    0]\n",
      " [  37   96  759   18    8    0   34   50   23    7]\n",
      " [  33   43   23  824    4    5    3   26   26   23]\n",
      " [   7   10    7    1  728    0   39   22    9  159]\n",
      " [  74   42    7  317   42  233   40   23   50   64]\n",
      " [  60   13   31    3   39    5  782    9   16    0]\n",
      " [   2   50   36    0    7    0    0  892   11   30]\n",
      " [  15   69   20   64   23    1   28   11  695   48]\n",
      " [  14   15    6   15   64    0    8   71   13  803]]\n"
     ]
    },
    {
     "data": {
      "image/png": "[encoded data removed]",
      "text/plain": [
       "<Figure size 288x288 with 1 Axes>"
      ]
     },
     "metadata": {},
     "output_type": "display_data"
    },
    {
     "data": {
      "image/png": "[encoded data removed]",
      "text/plain": [
       "<Figure size 288x288 with 1 Axes>"
      ]
     },
     "metadata": {},
     "output_type": "display_data"
    }
   ],
   "source": [
    "conf_mx1 = confusion_matrix(y_test1, y_predict1)\n",
    "print ('Confusion Matrix :\\n',conf_mx)\n",
    "\n",
    "plt.matshow(conf_mx1, cmap=plt.cm.gray)\n",
    "plt.show()\n",
    "\n",
    "row_sums = conf_mx1.sum(axis=1, keepdims=True)\n",
    "norm_conf_mx1 = conf_mx1 / row_sums\n",
    "\n",
    "np.fill_diagonal(norm_conf_mx1, 0)\n",
    "plt.matshow(norm_conf_mx1, cmap=plt.cm.gray)\n",
    "plt.show()\n"
   ]
  },
  {
   "cell_type": "code",
   "execution_count": 9,
   "metadata": {},
   "outputs": [
    {
     "name": "stdout",
     "output_type": "stream",
     "text": [
      "--- Time to Identify Pricipal Components ---\n",
      "replication 1 : 13156.679229480744 milliseconds\n",
      "replication 2 : 12653.401812986544 milliseconds\n",
      "replication 3 : 12214.086773737961 milliseconds\n",
      "replication 4 : 12429.406838112129 milliseconds\n",
      "replication 5 : 12217.119913291981 milliseconds\n",
      "replication 6 : 14724.339836437082 milliseconds\n",
      "replication 7 : 13412.936824646067 milliseconds\n",
      "replication 8 : 14979.084967320261 milliseconds\n",
      "replication 9 : 12837.346043945217 milliseconds\n",
      "replication 10 : 13359.5103786908 milliseconds\n",
      "                  0\n",
      "count     10.000000\n",
      "mean   13198.391262\n",
      "std      973.171857\n",
      "min    12214.086774\n",
      "25%    12485.405582\n",
      "50%    12997.012637\n",
      "75%    13399.580213\n",
      "max    14979.084967\n",
      "\n",
      "Principal components count: 154\n",
      "\n",
      "Proportion of variance explained: [0.09746116 0.07155445 0.06149531 0.05403385 0.04888934 0.04305227\n",
      " 0.03278262 0.02889642 0.02758364 0.0234214  0.02106689 0.02037553\n",
      " 0.01707064 0.0169402  0.01583382 0.01486345 0.01319358 0.01279014\n",
      " 0.01187272 0.01152937 0.0106604  0.01009794 0.00959151 0.00909635\n",
      " 0.00883287 0.00838818 0.00809832 0.00785718 0.00740262 0.00690014\n",
      " 0.00656144 0.0064547  0.00600819 0.00585612 0.00566754 0.00543471\n",
      " 0.00504717 0.00487079 0.00478955 0.00467594 0.00454369 0.00444918\n",
      " 0.00418217 0.00396164 0.00383708 0.00375785 0.00361426 0.00349025\n",
      " 0.00338732 0.00319696 0.00316854 0.00310145 0.0029648  0.00287101\n",
      " 0.00282514 0.00269423 0.00268392 0.00256509 0.00253168 0.00244648\n",
      " 0.00239702 0.00238581 0.00229234 0.00220949 0.0021306  0.00206317\n",
      " 0.00202781 0.00195035 0.00191471 0.0018855  0.00186976 0.00180104\n",
      " 0.00176787 0.00173359 0.00164849 0.00163237 0.00161408 0.00154304\n",
      " 0.0014702  0.00142199 0.00141016 0.00140146 0.00139605 0.00135025\n",
      " 0.00132371 0.00131893 0.00129197 0.00125172 0.00122529 0.00120419\n",
      " 0.00116363 0.00114319 0.00112547 0.00109862 0.00108343 0.00107175\n",
      " 0.00103692 0.00103418 0.00100591 0.00099933 0.00097674 0.00094161\n",
      " 0.00093583 0.00091166 0.00090074 0.0008895  0.00086158 0.00085255\n",
      " 0.000841   0.00081723 0.00078602 0.0007775  0.00077581 0.00076479\n",
      " 0.00076057 0.00074879 0.00073024 0.00072536 0.00071584 0.00070341\n",
      " 0.00069175 0.00068692 0.00067938 0.00067174 0.00066127 0.00064267\n",
      " 0.00063277 0.0006284  0.00061963 0.0006014  0.00060026 0.00059379\n",
      " 0.00058628 0.00058345 0.0005789  0.00057275 0.00056338 0.0005523\n",
      " 0.00053557 0.00052572 0.00052274 0.0005099  0.0005023  0.00049814\n",
      " 0.00049585 0.00049234 0.00048378 0.0004809  0.00047157 0.00046671\n",
      " 0.00046423 0.00046199 0.00045828 0.0004495 ]\n"
     ]
    }
   ],
   "source": [
    "# --- PCA ---\n",
    "# Generate principal components that represent 95 percent of the variability\n",
    "# in the explanatory variables\n",
    "pca = PCA(n_components=0.95)\n",
    "\n",
    "# Runtime to identify the principal components\n",
    "pca_time = [] # empty list for storing test results\n",
    "n = 0  # initialize count\n",
    "print('--- Time to Identify Pricipal Components ---')\n",
    "while (n < replications): \n",
    "    start_time = time.clock()\n",
    "    # generate 1 million random negative binomials and store in a vector\n",
    "    X_pca = pca.fit_transform(X) # run on all 70,000 observations\n",
    "    end_time = time.clock()\n",
    "    runtime = end_time - start_time  # seconds of wall-clock time\n",
    "    pca_time.append(runtime * 1000)  # report in milliseconds \n",
    "    print(\"replication\", n + 1, \":\", pca_time[n], \"milliseconds\") \n",
    "    n = n + 1\n",
    "\n",
    "# write results to external file \n",
    "with open('pca_fit.csv', 'wt') as f:\n",
    "    writer = csv.writer(f, quoting = csv.QUOTE_NONNUMERIC, dialect = 'excel')\n",
    "    writer.writerow('pca_time')    \n",
    "    for i in range(replications):\n",
    "        writer.writerow(([pca_time[i],]))\n",
    "\n",
    "print(pd.DataFrame(pca_time).describe())\n",
    "\n",
    "# show summary of pca solution\n",
    "pca_explained_variance = pca.explained_variance_ratio_\n",
    "print('\\nPrincipal components count:', len(pca_explained_variance))\n",
    "# -- Results: Dimension is reduced to 154 variables from 784 variables\n",
    "print('\\nProportion of variance explained:', pca_explained_variance)\n"
   ]
  },
  {
   "cell_type": "code",
   "execution_count": 10,
   "metadata": {},
   "outputs": [
    {
     "name": "stdout",
     "output_type": "stream",
     "text": [
      "--- Time to Fit Random Forest Classifier using Principal Components ---\n",
      "replication 1 : 18740.585279337836 milliseconds\n",
      "\n",
      "replication 2 : 18559.232026143774 milliseconds\n",
      "\n",
      "replication 3 : 17587.73401320326 milliseconds\n",
      "\n",
      "replication 4 : 18174.87026636451 milliseconds\n",
      "\n",
      "replication 5 : 18350.868312148974 milliseconds\n",
      "\n",
      "replication 6 : 17950.406033435116 milliseconds\n",
      "\n",
      "replication 7 : 17616.670361611967 milliseconds\n",
      "\n",
      "replication 8 : 18751.60483791501 milliseconds\n",
      "\n",
      "replication 9 : 18289.5289355273 milliseconds\n",
      "\n",
      "replication 10 : 17188.661033927703 milliseconds\n",
      "\n",
      "                  0\n",
      "count     10.000000\n",
      "mean   18121.016110\n",
      "std      526.499803\n",
      "min    17188.661034\n",
      "25%    17700.104280\n",
      "50%    18232.199601\n",
      "75%    18507.141098\n",
      "max    18751.604838\n",
      "\n",
      "F1 Score:  0.7771608951625412\n"
     ]
    }
   ],
   "source": [
    "# Split the reduced data to 60,000 images as training data and 10,000 as test data\n",
    "X_pca_train, X_pca_test = X_pca[:60000], X_pca[60000:]\n",
    "\n",
    "# Random Forest Classifier using the principal components\n",
    "rfClf_pca = RandomForestClassifier(bootstrap = True, n_estimators=100, max_leaf_nodes=10, n_jobs=-1,random_state =42)\n",
    "\n",
    "# Runtime to identify the principal components\n",
    "x_pca_time = [] # empty list for storing test results\n",
    "n = 0  # initialize count\n",
    "print('--- Time to Fit Random Forest Classifier using Principal Components ---')\n",
    "while (n < replications): \n",
    "    start_time = time.clock()\n",
    "    # generate 1 million random negative binomials and store in a vector\n",
    "    rfClf_pca.fit(X_pca_train, y_train)\n",
    "    end_time = time.clock()\n",
    "    runtime = end_time - start_time  # seconds of wall-clock time\n",
    "    x_pca_time.append(runtime * 1000)  # report in milliseconds \n",
    "    print(\"replication\", n + 1, \":\", x_pca_time[n], \"milliseconds\") \n",
    "    n = n + 1\n",
    "\n",
    "# write results to external file \n",
    "with open('rf_pca_fit.csv', 'wt') as f:\n",
    "    writer = csv.writer(f, quoting = csv.QUOTE_NONNUMERIC, dialect = 'excel')\n",
    "    writer.writerow('x_pca_time')    \n",
    "    for i in range(replications):\n",
    "        writer.writerow(([x_pca_time[i],]))\n",
    "        \n",
    "print(pd.DataFrame(x_pca_time).describe())\n",
    "\n",
    "y_predict_pca = rfClf_pca.predict(X_pca_test)\n",
    "\n",
    "# Performance measurement using F1-score\n",
    "\n",
    "f1Score_pca = f1_score(y_test, y_predict_pca, average='weighted')\n",
    "print('\\nF1 Score: ', f1Score_pca)"
   ]
  },
  {
   "cell_type": "code",
   "execution_count": 11,
   "metadata": {},
   "outputs": [
    {
     "name": "stdout",
     "output_type": "stream",
     "text": [
      "Confusion Matrix :\n",
      " [[ 963    1    2    0    0    0    4    5    4    1]\n",
      " [   0 1111   11    3    0    0    2    2    6    0]\n",
      " [  37   96  759   18    8    0   34   50   23    7]\n",
      " [  33   43   23  824    4    5    3   26   26   23]\n",
      " [   7   10    7    1  728    0   39   22    9  159]\n",
      " [  74   42    7  317   42  233   40   23   50   64]\n",
      " [  60   13   31    3   39    5  782    9   16    0]\n",
      " [   2   50   36    0    7    0    0  892   11   30]\n",
      " [  15   69   20   64   23    1   28   11  695   48]\n",
      " [  14   15    6   15   64    0    8   71   13  803]]\n"
     ]
    },
    {
     "data": {
      "image/png": "[encoded data removed]",
      "text/plain": [
       "<Figure size 288x288 with 1 Axes>"
      ]
     },
     "metadata": {},
     "output_type": "display_data"
    },
    {
     "data": {
      "image/png": "[encoded data removed]",
      "text/plain": [
       "<Figure size 288x288 with 1 Axes>"
      ]
     },
     "metadata": {},
     "output_type": "display_data"
    }
   ],
   "source": [
    "conf_mx1 = confusion_matrix(y_test1, y_predict1)\n",
    "print ('Confusion Matrix :\\n',conf_mx)\n",
    "\n",
    "plt.matshow(conf_mx1, cmap=plt.cm.gray)\n",
    "plt.show()\n",
    "\n",
    "row_sums = conf_mx1.sum(axis=1, keepdims=True)\n",
    "norm_conf_mx1 = conf_mx1 / row_sums\n",
    "\n",
    "np.fill_diagonal(norm_conf_mx1, 0)\n",
    "plt.matshow(norm_conf_mx1, cmap=plt.cm.gray)\n",
    "plt.show()"
   ]
  },
  {
   "cell_type": "code",
   "execution_count": 12,
   "metadata": {},
   "outputs": [
    {
     "name": "stdout",
     "output_type": "stream",
     "text": [
      "--- Time to Identify Pricipal Components ---\n",
      "\n",
      "replication 1 : 12260.136056097508 milliseconds\n",
      "replication 2 : 11176.466893290013 milliseconds\n",
      "replication 3 : 11006.552780241009 milliseconds\n",
      "replication 4 : 11114.746526751333 milliseconds\n",
      "replication 5 : 11278.20228593953 milliseconds\n",
      "replication 6 : 11207.07253588205 milliseconds\n",
      "replication 7 : 11188.826895917486 milliseconds\n",
      "replication 8 : 10967.3592636384 milliseconds\n",
      "replication 9 : 11072.986254803482 milliseconds\n",
      "replication 10 : 10780.228347620436 milliseconds\n",
      "                  0\n",
      "count     10.000000\n",
      "mean   11205.257784\n",
      "std      397.437445\n",
      "min    10780.228348\n",
      "25%    11023.161149\n",
      "50%    11145.606710\n",
      "75%    11202.511126\n",
      "max    12260.136056\n",
      "\n",
      "Principal components count: 154\n"
     ]
    }
   ],
   "source": [
    "# --- PCA on Training Data only (60000 observations)---\n",
    "# Generate principal components that represent 95 percent of the variability\n",
    "# in the explanatory variables.\n",
    "pca = PCA(n_components=0.95)\n",
    "\n",
    "# Runtime to identify the principal components\n",
    "pca_time = [] # empty list for storing test results\n",
    "n = 0  # initialize count\n",
    "print('--- Time to Identify Pricipal Components ---\\n')\n",
    "while (n < replications): \n",
    "    start_time = time.clock()\n",
    "    X_pca_train = pca.fit_transform(X_train) # run on 60,000 observations\n",
    "    end_time = time.clock()\n",
    "    runtime = end_time - start_time  # seconds of wall-clock time\n",
    "    pca_time.append(runtime * 1000)  # report in milliseconds \n",
    "    print(\"replication\", n + 1, \":\", pca_time[n], \"milliseconds\") \n",
    "    n = n + 1\n",
    "\n",
    "print(pd.DataFrame(pca_time).describe())\n",
    "\n",
    "# show summary of pca solution\n",
    "pca_explained_variance = pca.explained_variance_ratio_\n",
    "print('\\nPrincipal components count:', len(pca_explained_variance))\n",
    "# -- Results: Dimension is reduced to 154 variables from 784 variables\n",
    "\n",
    "X_pca_test = pca.transform(X_test)"
   ]
  },
  {
   "cell_type": "code",
   "execution_count": 13,
   "metadata": {},
   "outputs": [
    {
     "name": "stdout",
     "output_type": "stream",
     "text": [
      "--- Time to Fit Random Forest Classifier using Principal Components ---\n",
      "\n",
      "replication 1 : 18231.446037376485 milliseconds\n",
      "replication 2 : 18411.07251946005 milliseconds\n",
      "replication 3 : 17651.234111735106 milliseconds\n",
      "replication 4 : 17919.516701152817 milliseconds\n",
      "replication 5 : 18049.65021184364 milliseconds\n",
      "replication 6 : 17733.6051170887 milliseconds\n",
      "replication 7 : 17622.926725128877 milliseconds\n",
      "replication 8 : 17766.498341380044 milliseconds\n",
      "replication 9 : 17800.16093539598 milliseconds\n",
      "replication 10 : 18184.28991362032 milliseconds\n",
      "                  0\n",
      "count     10.000000\n",
      "mean   17937.040061\n",
      "std      269.786054\n",
      "min    17622.926725\n",
      "25%    17741.828423\n",
      "50%    17859.838818\n",
      "75%    18150.629988\n",
      "max    18411.072519\n"
     ]
    }
   ],
   "source": [
    "# Random Forest Classifier using the principal components\n",
    "rfClf_pca = RandomForestClassifier(bootstrap = True, n_estimators=100, max_leaf_nodes=10, n_jobs=-1,random_state =42)\n",
    "\n",
    "# Runtime to identify the principal components\n",
    "x_pca_time = [] # empty list for storing test results\n",
    "n = 0  # initialize count\n",
    "print('--- Time to Fit Random Forest Classifier using Principal Components ---\\n')\n",
    "while (n < replications): \n",
    "    start_time = time.clock()\n",
    "    # generate 1 million random negative binomials and store in a vector\n",
    "    rfClf_pca.fit(X_pca_train, y_train)\n",
    "    end_time = time.clock()\n",
    "    runtime = end_time - start_time  # seconds of wall-clock time\n",
    "    x_pca_time.append(runtime * 1000)  # report in milliseconds \n",
    "    print(\"replication\", n + 1, \":\", x_pca_time[n], \"milliseconds\") \n",
    "    n = n + 1\n",
    "       \n",
    "print(pd.DataFrame(x_pca_time).describe())\n",
    "\n",
    "y_predict_pca = rfClf_pca.predict(X_pca_test)"
   ]
  },
  {
   "cell_type": "code",
   "execution_count": 14,
   "metadata": {},
   "outputs": [
    {
     "name": "stdout",
     "output_type": "stream",
     "text": [
      "\n",
      "F1 Score:  0.7815999163905832\n",
      "Confusion Matrix :\n",
      " [[ 963    1    2    0    0    0    4    5    4    1]\n",
      " [   0 1111   11    3    0    0    2    2    6    0]\n",
      " [  37   96  759   18    8    0   34   50   23    7]\n",
      " [  33   43   23  824    4    5    3   26   26   23]\n",
      " [   7   10    7    1  728    0   39   22    9  159]\n",
      " [  74   42    7  317   42  233   40   23   50   64]\n",
      " [  60   13   31    3   39    5  782    9   16    0]\n",
      " [   2   50   36    0    7    0    0  892   11   30]\n",
      " [  15   69   20   64   23    1   28   11  695   48]\n",
      " [  14   15    6   15   64    0    8   71   13  803]]\n"
     ]
    },
    {
     "data": {
      "image/png": "[encoded data removed]",
      "text/plain": [
       "<Figure size 288x288 with 1 Axes>"
      ]
     },
     "metadata": {},
     "output_type": "display_data"
    },
    {
     "data": {
      "image/png": "[encoded data removed]",
      "text/plain": [
       "<Figure size 288x288 with 1 Axes>"
      ]
     },
     "metadata": {},
     "output_type": "display_data"
    }
   ],
   "source": [
    "# Performance measurement using F1-score\n",
    "f1Score_pca = f1_score(y_test, y_predict_pca, average='weighted')\n",
    "print('\\nF1 Score: ', f1Score_pca)\n",
    "\n",
    "conf_mx1 = confusion_matrix(y_test1, y_predict1)\n",
    "print ('Confusion Matrix :\\n',conf_mx)\n",
    "\n",
    "plt.matshow(conf_mx1, cmap=plt.cm.gray)\n",
    "plt.show()\n",
    "\n",
    "row_sums = conf_mx1.sum(axis=1, keepdims=True)\n",
    "norm_conf_mx1 = conf_mx1 / row_sums\n",
    "\n",
    "np.fill_diagonal(norm_conf_mx1, 0)\n",
    "plt.matshow(norm_conf_mx1, cmap=plt.cm.gray)\n",
    "plt.show()"
   ]
  }
 ],
 "metadata": {
  "kernelspec": {
   "display_name": "Python 3",
   "language": "python",
   "name": "python3"
  },
  "language_info": {
   "codemirror_mode": {
    "name": "ipython",
    "version": 3
   },
   "file_extension": ".py",
   "mimetype": "text/x-python",
   "name": "python",
   "nbconvert_exporter": "python",
   "pygments_lexer": "ipython3",
   "version": "3.6.5"
  }
 },
 "nbformat": 4,
 "nbformat_minor": 2
}
